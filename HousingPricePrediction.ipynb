{
 "cells": [
  {
   "cell_type": "markdown",
   "id": "interim-drama",
   "metadata": {},
   "source": [
    "# Advanced Housing Price Prediction\n",
    "\n",
    "In this project we will try to perform various data cleaning processing and build a simple Linear Regression model to predict housing prices on AmesHousing dataset.\\\n",
    "The source of the data can be found in this location [HERE](https://www.tandfonline.com/doi/abs/10.1080/10691898.2011.11889627)"
   ]
  },
  {
   "cell_type": "markdown",
   "id": "faced-digest",
   "metadata": {},
   "source": [
    "##### Import the required libraries"
   ]
  },
  {
   "cell_type": "code",
   "execution_count": 1,
   "id": "continued-cyprus",
   "metadata": {},
   "outputs": [],
   "source": [
    "# Data Manipulation and Visualization\n",
    "import numpy as np\n",
    "import pandas as pd\n",
    "import matplotlib.pyplot as plt\n",
    "\n",
    "# Modelling and Testing\n",
    "from sklearn.model_selection import KFold\n",
    "from sklearn.metrics import mean_squared_error\n",
    "from sklearn import linear_model"
   ]
  },
  {
   "cell_type": "code",
   "execution_count": 2,
   "id": "australian-pitch",
   "metadata": {},
   "outputs": [],
   "source": [
    "# Some housekeeping - allowing large columns\n",
    "pd.set_option('max_columns', 500)\n",
    "pd.set_option('max_rows', 100000)\n",
    "pd.set_option('max_colwidth', 1000)"
   ]
  },
  {
   "cell_type": "markdown",
   "id": "violent-norwegian",
   "metadata": {},
   "source": [
    "##### Read input dataset"
   ]
  },
  {
   "cell_type": "code",
   "execution_count": 3,
   "id": "controlled-physics",
   "metadata": {},
   "outputs": [
    {
     "data": {
      "text/html": [
       "<div>\n",
       "<style scoped>\n",
       "    .dataframe tbody tr th:only-of-type {\n",
       "        vertical-align: middle;\n",
       "    }\n",
       "\n",
       "    .dataframe tbody tr th {\n",
       "        vertical-align: top;\n",
       "    }\n",
       "\n",
       "    .dataframe thead th {\n",
       "        text-align: right;\n",
       "    }\n",
       "</style>\n",
       "<table border=\"1\" class=\"dataframe\">\n",
       "  <thead>\n",
       "    <tr style=\"text-align: right;\">\n",
       "      <th></th>\n",
       "      <th>Order</th>\n",
       "      <th>PID</th>\n",
       "      <th>MS SubClass</th>\n",
       "      <th>MS Zoning</th>\n",
       "      <th>Lot Frontage</th>\n",
       "      <th>Lot Area</th>\n",
       "      <th>Street</th>\n",
       "      <th>Alley</th>\n",
       "      <th>Lot Shape</th>\n",
       "      <th>Land Contour</th>\n",
       "      <th>Utilities</th>\n",
       "      <th>Lot Config</th>\n",
       "      <th>Land Slope</th>\n",
       "      <th>Neighborhood</th>\n",
       "      <th>Condition 1</th>\n",
       "      <th>Condition 2</th>\n",
       "      <th>Bldg Type</th>\n",
       "      <th>House Style</th>\n",
       "      <th>Overall Qual</th>\n",
       "      <th>Overall Cond</th>\n",
       "      <th>Year Built</th>\n",
       "      <th>Year Remod/Add</th>\n",
       "      <th>Roof Style</th>\n",
       "      <th>Roof Matl</th>\n",
       "      <th>Exterior 1st</th>\n",
       "      <th>Exterior 2nd</th>\n",
       "      <th>Mas Vnr Type</th>\n",
       "      <th>Mas Vnr Area</th>\n",
       "      <th>Exter Qual</th>\n",
       "      <th>Exter Cond</th>\n",
       "      <th>Foundation</th>\n",
       "      <th>Bsmt Qual</th>\n",
       "      <th>Bsmt Cond</th>\n",
       "      <th>Bsmt Exposure</th>\n",
       "      <th>BsmtFin Type 1</th>\n",
       "      <th>BsmtFin SF 1</th>\n",
       "      <th>BsmtFin Type 2</th>\n",
       "      <th>BsmtFin SF 2</th>\n",
       "      <th>Bsmt Unf SF</th>\n",
       "      <th>Total Bsmt SF</th>\n",
       "      <th>Heating</th>\n",
       "      <th>Heating QC</th>\n",
       "      <th>Central Air</th>\n",
       "      <th>Electrical</th>\n",
       "      <th>1st Flr SF</th>\n",
       "      <th>2nd Flr SF</th>\n",
       "      <th>Low Qual Fin SF</th>\n",
       "      <th>Gr Liv Area</th>\n",
       "      <th>Bsmt Full Bath</th>\n",
       "      <th>Bsmt Half Bath</th>\n",
       "      <th>Full Bath</th>\n",
       "      <th>Half Bath</th>\n",
       "      <th>Bedroom AbvGr</th>\n",
       "      <th>Kitchen AbvGr</th>\n",
       "      <th>Kitchen Qual</th>\n",
       "      <th>TotRms AbvGrd</th>\n",
       "      <th>Functional</th>\n",
       "      <th>Fireplaces</th>\n",
       "      <th>Fireplace Qu</th>\n",
       "      <th>Garage Type</th>\n",
       "      <th>Garage Yr Blt</th>\n",
       "      <th>Garage Finish</th>\n",
       "      <th>Garage Cars</th>\n",
       "      <th>Garage Area</th>\n",
       "      <th>Garage Qual</th>\n",
       "      <th>Garage Cond</th>\n",
       "      <th>Paved Drive</th>\n",
       "      <th>Wood Deck SF</th>\n",
       "      <th>Open Porch SF</th>\n",
       "      <th>Enclosed Porch</th>\n",
       "      <th>3Ssn Porch</th>\n",
       "      <th>Screen Porch</th>\n",
       "      <th>Pool Area</th>\n",
       "      <th>Pool QC</th>\n",
       "      <th>Fence</th>\n",
       "      <th>Misc Feature</th>\n",
       "      <th>Misc Val</th>\n",
       "      <th>Mo Sold</th>\n",
       "      <th>Yr Sold</th>\n",
       "      <th>Sale Type</th>\n",
       "      <th>Sale Condition</th>\n",
       "      <th>SalePrice</th>\n",
       "    </tr>\n",
       "  </thead>\n",
       "  <tbody>\n",
       "    <tr>\n",
       "      <th>0</th>\n",
       "      <td>1</td>\n",
       "      <td>526301100</td>\n",
       "      <td>20</td>\n",
       "      <td>RL</td>\n",
       "      <td>141.0</td>\n",
       "      <td>31770</td>\n",
       "      <td>Pave</td>\n",
       "      <td>NaN</td>\n",
       "      <td>IR1</td>\n",
       "      <td>Lvl</td>\n",
       "      <td>AllPub</td>\n",
       "      <td>Corner</td>\n",
       "      <td>Gtl</td>\n",
       "      <td>NAmes</td>\n",
       "      <td>Norm</td>\n",
       "      <td>Norm</td>\n",
       "      <td>1Fam</td>\n",
       "      <td>1Story</td>\n",
       "      <td>6</td>\n",
       "      <td>5</td>\n",
       "      <td>1960</td>\n",
       "      <td>1960</td>\n",
       "      <td>Hip</td>\n",
       "      <td>CompShg</td>\n",
       "      <td>BrkFace</td>\n",
       "      <td>Plywood</td>\n",
       "      <td>Stone</td>\n",
       "      <td>112.0</td>\n",
       "      <td>TA</td>\n",
       "      <td>TA</td>\n",
       "      <td>CBlock</td>\n",
       "      <td>TA</td>\n",
       "      <td>Gd</td>\n",
       "      <td>Gd</td>\n",
       "      <td>BLQ</td>\n",
       "      <td>639.0</td>\n",
       "      <td>Unf</td>\n",
       "      <td>0.0</td>\n",
       "      <td>441.0</td>\n",
       "      <td>1080.0</td>\n",
       "      <td>GasA</td>\n",
       "      <td>Fa</td>\n",
       "      <td>Y</td>\n",
       "      <td>SBrkr</td>\n",
       "      <td>1656</td>\n",
       "      <td>0</td>\n",
       "      <td>0</td>\n",
       "      <td>1656</td>\n",
       "      <td>1.0</td>\n",
       "      <td>0.0</td>\n",
       "      <td>1</td>\n",
       "      <td>0</td>\n",
       "      <td>3</td>\n",
       "      <td>1</td>\n",
       "      <td>TA</td>\n",
       "      <td>7</td>\n",
       "      <td>Typ</td>\n",
       "      <td>2</td>\n",
       "      <td>Gd</td>\n",
       "      <td>Attchd</td>\n",
       "      <td>1960.0</td>\n",
       "      <td>Fin</td>\n",
       "      <td>2.0</td>\n",
       "      <td>528.0</td>\n",
       "      <td>TA</td>\n",
       "      <td>TA</td>\n",
       "      <td>P</td>\n",
       "      <td>210</td>\n",
       "      <td>62</td>\n",
       "      <td>0</td>\n",
       "      <td>0</td>\n",
       "      <td>0</td>\n",
       "      <td>0</td>\n",
       "      <td>NaN</td>\n",
       "      <td>NaN</td>\n",
       "      <td>NaN</td>\n",
       "      <td>0</td>\n",
       "      <td>5</td>\n",
       "      <td>2010</td>\n",
       "      <td>WD</td>\n",
       "      <td>Normal</td>\n",
       "      <td>215000</td>\n",
       "    </tr>\n",
       "    <tr>\n",
       "      <th>1</th>\n",
       "      <td>2</td>\n",
       "      <td>526350040</td>\n",
       "      <td>20</td>\n",
       "      <td>RH</td>\n",
       "      <td>80.0</td>\n",
       "      <td>11622</td>\n",
       "      <td>Pave</td>\n",
       "      <td>NaN</td>\n",
       "      <td>Reg</td>\n",
       "      <td>Lvl</td>\n",
       "      <td>AllPub</td>\n",
       "      <td>Inside</td>\n",
       "      <td>Gtl</td>\n",
       "      <td>NAmes</td>\n",
       "      <td>Feedr</td>\n",
       "      <td>Norm</td>\n",
       "      <td>1Fam</td>\n",
       "      <td>1Story</td>\n",
       "      <td>5</td>\n",
       "      <td>6</td>\n",
       "      <td>1961</td>\n",
       "      <td>1961</td>\n",
       "      <td>Gable</td>\n",
       "      <td>CompShg</td>\n",
       "      <td>VinylSd</td>\n",
       "      <td>VinylSd</td>\n",
       "      <td>None</td>\n",
       "      <td>0.0</td>\n",
       "      <td>TA</td>\n",
       "      <td>TA</td>\n",
       "      <td>CBlock</td>\n",
       "      <td>TA</td>\n",
       "      <td>TA</td>\n",
       "      <td>No</td>\n",
       "      <td>Rec</td>\n",
       "      <td>468.0</td>\n",
       "      <td>LwQ</td>\n",
       "      <td>144.0</td>\n",
       "      <td>270.0</td>\n",
       "      <td>882.0</td>\n",
       "      <td>GasA</td>\n",
       "      <td>TA</td>\n",
       "      <td>Y</td>\n",
       "      <td>SBrkr</td>\n",
       "      <td>896</td>\n",
       "      <td>0</td>\n",
       "      <td>0</td>\n",
       "      <td>896</td>\n",
       "      <td>0.0</td>\n",
       "      <td>0.0</td>\n",
       "      <td>1</td>\n",
       "      <td>0</td>\n",
       "      <td>2</td>\n",
       "      <td>1</td>\n",
       "      <td>TA</td>\n",
       "      <td>5</td>\n",
       "      <td>Typ</td>\n",
       "      <td>0</td>\n",
       "      <td>NaN</td>\n",
       "      <td>Attchd</td>\n",
       "      <td>1961.0</td>\n",
       "      <td>Unf</td>\n",
       "      <td>1.0</td>\n",
       "      <td>730.0</td>\n",
       "      <td>TA</td>\n",
       "      <td>TA</td>\n",
       "      <td>Y</td>\n",
       "      <td>140</td>\n",
       "      <td>0</td>\n",
       "      <td>0</td>\n",
       "      <td>0</td>\n",
       "      <td>120</td>\n",
       "      <td>0</td>\n",
       "      <td>NaN</td>\n",
       "      <td>MnPrv</td>\n",
       "      <td>NaN</td>\n",
       "      <td>0</td>\n",
       "      <td>6</td>\n",
       "      <td>2010</td>\n",
       "      <td>WD</td>\n",
       "      <td>Normal</td>\n",
       "      <td>105000</td>\n",
       "    </tr>\n",
       "    <tr>\n",
       "      <th>2</th>\n",
       "      <td>3</td>\n",
       "      <td>526351010</td>\n",
       "      <td>20</td>\n",
       "      <td>RL</td>\n",
       "      <td>81.0</td>\n",
       "      <td>14267</td>\n",
       "      <td>Pave</td>\n",
       "      <td>NaN</td>\n",
       "      <td>IR1</td>\n",
       "      <td>Lvl</td>\n",
       "      <td>AllPub</td>\n",
       "      <td>Corner</td>\n",
       "      <td>Gtl</td>\n",
       "      <td>NAmes</td>\n",
       "      <td>Norm</td>\n",
       "      <td>Norm</td>\n",
       "      <td>1Fam</td>\n",
       "      <td>1Story</td>\n",
       "      <td>6</td>\n",
       "      <td>6</td>\n",
       "      <td>1958</td>\n",
       "      <td>1958</td>\n",
       "      <td>Hip</td>\n",
       "      <td>CompShg</td>\n",
       "      <td>Wd Sdng</td>\n",
       "      <td>Wd Sdng</td>\n",
       "      <td>BrkFace</td>\n",
       "      <td>108.0</td>\n",
       "      <td>TA</td>\n",
       "      <td>TA</td>\n",
       "      <td>CBlock</td>\n",
       "      <td>TA</td>\n",
       "      <td>TA</td>\n",
       "      <td>No</td>\n",
       "      <td>ALQ</td>\n",
       "      <td>923.0</td>\n",
       "      <td>Unf</td>\n",
       "      <td>0.0</td>\n",
       "      <td>406.0</td>\n",
       "      <td>1329.0</td>\n",
       "      <td>GasA</td>\n",
       "      <td>TA</td>\n",
       "      <td>Y</td>\n",
       "      <td>SBrkr</td>\n",
       "      <td>1329</td>\n",
       "      <td>0</td>\n",
       "      <td>0</td>\n",
       "      <td>1329</td>\n",
       "      <td>0.0</td>\n",
       "      <td>0.0</td>\n",
       "      <td>1</td>\n",
       "      <td>1</td>\n",
       "      <td>3</td>\n",
       "      <td>1</td>\n",
       "      <td>Gd</td>\n",
       "      <td>6</td>\n",
       "      <td>Typ</td>\n",
       "      <td>0</td>\n",
       "      <td>NaN</td>\n",
       "      <td>Attchd</td>\n",
       "      <td>1958.0</td>\n",
       "      <td>Unf</td>\n",
       "      <td>1.0</td>\n",
       "      <td>312.0</td>\n",
       "      <td>TA</td>\n",
       "      <td>TA</td>\n",
       "      <td>Y</td>\n",
       "      <td>393</td>\n",
       "      <td>36</td>\n",
       "      <td>0</td>\n",
       "      <td>0</td>\n",
       "      <td>0</td>\n",
       "      <td>0</td>\n",
       "      <td>NaN</td>\n",
       "      <td>NaN</td>\n",
       "      <td>Gar2</td>\n",
       "      <td>12500</td>\n",
       "      <td>6</td>\n",
       "      <td>2010</td>\n",
       "      <td>WD</td>\n",
       "      <td>Normal</td>\n",
       "      <td>172000</td>\n",
       "    </tr>\n",
       "    <tr>\n",
       "      <th>3</th>\n",
       "      <td>4</td>\n",
       "      <td>526353030</td>\n",
       "      <td>20</td>\n",
       "      <td>RL</td>\n",
       "      <td>93.0</td>\n",
       "      <td>11160</td>\n",
       "      <td>Pave</td>\n",
       "      <td>NaN</td>\n",
       "      <td>Reg</td>\n",
       "      <td>Lvl</td>\n",
       "      <td>AllPub</td>\n",
       "      <td>Corner</td>\n",
       "      <td>Gtl</td>\n",
       "      <td>NAmes</td>\n",
       "      <td>Norm</td>\n",
       "      <td>Norm</td>\n",
       "      <td>1Fam</td>\n",
       "      <td>1Story</td>\n",
       "      <td>7</td>\n",
       "      <td>5</td>\n",
       "      <td>1968</td>\n",
       "      <td>1968</td>\n",
       "      <td>Hip</td>\n",
       "      <td>CompShg</td>\n",
       "      <td>BrkFace</td>\n",
       "      <td>BrkFace</td>\n",
       "      <td>None</td>\n",
       "      <td>0.0</td>\n",
       "      <td>Gd</td>\n",
       "      <td>TA</td>\n",
       "      <td>CBlock</td>\n",
       "      <td>TA</td>\n",
       "      <td>TA</td>\n",
       "      <td>No</td>\n",
       "      <td>ALQ</td>\n",
       "      <td>1065.0</td>\n",
       "      <td>Unf</td>\n",
       "      <td>0.0</td>\n",
       "      <td>1045.0</td>\n",
       "      <td>2110.0</td>\n",
       "      <td>GasA</td>\n",
       "      <td>Ex</td>\n",
       "      <td>Y</td>\n",
       "      <td>SBrkr</td>\n",
       "      <td>2110</td>\n",
       "      <td>0</td>\n",
       "      <td>0</td>\n",
       "      <td>2110</td>\n",
       "      <td>1.0</td>\n",
       "      <td>0.0</td>\n",
       "      <td>2</td>\n",
       "      <td>1</td>\n",
       "      <td>3</td>\n",
       "      <td>1</td>\n",
       "      <td>Ex</td>\n",
       "      <td>8</td>\n",
       "      <td>Typ</td>\n",
       "      <td>2</td>\n",
       "      <td>TA</td>\n",
       "      <td>Attchd</td>\n",
       "      <td>1968.0</td>\n",
       "      <td>Fin</td>\n",
       "      <td>2.0</td>\n",
       "      <td>522.0</td>\n",
       "      <td>TA</td>\n",
       "      <td>TA</td>\n",
       "      <td>Y</td>\n",
       "      <td>0</td>\n",
       "      <td>0</td>\n",
       "      <td>0</td>\n",
       "      <td>0</td>\n",
       "      <td>0</td>\n",
       "      <td>0</td>\n",
       "      <td>NaN</td>\n",
       "      <td>NaN</td>\n",
       "      <td>NaN</td>\n",
       "      <td>0</td>\n",
       "      <td>4</td>\n",
       "      <td>2010</td>\n",
       "      <td>WD</td>\n",
       "      <td>Normal</td>\n",
       "      <td>244000</td>\n",
       "    </tr>\n",
       "    <tr>\n",
       "      <th>4</th>\n",
       "      <td>5</td>\n",
       "      <td>527105010</td>\n",
       "      <td>60</td>\n",
       "      <td>RL</td>\n",
       "      <td>74.0</td>\n",
       "      <td>13830</td>\n",
       "      <td>Pave</td>\n",
       "      <td>NaN</td>\n",
       "      <td>IR1</td>\n",
       "      <td>Lvl</td>\n",
       "      <td>AllPub</td>\n",
       "      <td>Inside</td>\n",
       "      <td>Gtl</td>\n",
       "      <td>Gilbert</td>\n",
       "      <td>Norm</td>\n",
       "      <td>Norm</td>\n",
       "      <td>1Fam</td>\n",
       "      <td>2Story</td>\n",
       "      <td>5</td>\n",
       "      <td>5</td>\n",
       "      <td>1997</td>\n",
       "      <td>1998</td>\n",
       "      <td>Gable</td>\n",
       "      <td>CompShg</td>\n",
       "      <td>VinylSd</td>\n",
       "      <td>VinylSd</td>\n",
       "      <td>None</td>\n",
       "      <td>0.0</td>\n",
       "      <td>TA</td>\n",
       "      <td>TA</td>\n",
       "      <td>PConc</td>\n",
       "      <td>Gd</td>\n",
       "      <td>TA</td>\n",
       "      <td>No</td>\n",
       "      <td>GLQ</td>\n",
       "      <td>791.0</td>\n",
       "      <td>Unf</td>\n",
       "      <td>0.0</td>\n",
       "      <td>137.0</td>\n",
       "      <td>928.0</td>\n",
       "      <td>GasA</td>\n",
       "      <td>Gd</td>\n",
       "      <td>Y</td>\n",
       "      <td>SBrkr</td>\n",
       "      <td>928</td>\n",
       "      <td>701</td>\n",
       "      <td>0</td>\n",
       "      <td>1629</td>\n",
       "      <td>0.0</td>\n",
       "      <td>0.0</td>\n",
       "      <td>2</td>\n",
       "      <td>1</td>\n",
       "      <td>3</td>\n",
       "      <td>1</td>\n",
       "      <td>TA</td>\n",
       "      <td>6</td>\n",
       "      <td>Typ</td>\n",
       "      <td>1</td>\n",
       "      <td>TA</td>\n",
       "      <td>Attchd</td>\n",
       "      <td>1997.0</td>\n",
       "      <td>Fin</td>\n",
       "      <td>2.0</td>\n",
       "      <td>482.0</td>\n",
       "      <td>TA</td>\n",
       "      <td>TA</td>\n",
       "      <td>Y</td>\n",
       "      <td>212</td>\n",
       "      <td>34</td>\n",
       "      <td>0</td>\n",
       "      <td>0</td>\n",
       "      <td>0</td>\n",
       "      <td>0</td>\n",
       "      <td>NaN</td>\n",
       "      <td>MnPrv</td>\n",
       "      <td>NaN</td>\n",
       "      <td>0</td>\n",
       "      <td>3</td>\n",
       "      <td>2010</td>\n",
       "      <td>WD</td>\n",
       "      <td>Normal</td>\n",
       "      <td>189900</td>\n",
       "    </tr>\n",
       "  </tbody>\n",
       "</table>\n",
       "</div>"
      ],
      "text/plain": [
       "   Order        PID  MS SubClass MS Zoning  Lot Frontage  Lot Area Street  \\\n",
       "0      1  526301100           20        RL         141.0     31770   Pave   \n",
       "1      2  526350040           20        RH          80.0     11622   Pave   \n",
       "2      3  526351010           20        RL          81.0     14267   Pave   \n",
       "3      4  526353030           20        RL          93.0     11160   Pave   \n",
       "4      5  527105010           60        RL          74.0     13830   Pave   \n",
       "\n",
       "  Alley Lot Shape Land Contour Utilities Lot Config Land Slope Neighborhood  \\\n",
       "0   NaN       IR1          Lvl    AllPub     Corner        Gtl        NAmes   \n",
       "1   NaN       Reg          Lvl    AllPub     Inside        Gtl        NAmes   \n",
       "2   NaN       IR1          Lvl    AllPub     Corner        Gtl        NAmes   \n",
       "3   NaN       Reg          Lvl    AllPub     Corner        Gtl        NAmes   \n",
       "4   NaN       IR1          Lvl    AllPub     Inside        Gtl      Gilbert   \n",
       "\n",
       "  Condition 1 Condition 2 Bldg Type House Style  Overall Qual  Overall Cond  \\\n",
       "0        Norm        Norm      1Fam      1Story             6             5   \n",
       "1       Feedr        Norm      1Fam      1Story             5             6   \n",
       "2        Norm        Norm      1Fam      1Story             6             6   \n",
       "3        Norm        Norm      1Fam      1Story             7             5   \n",
       "4        Norm        Norm      1Fam      2Story             5             5   \n",
       "\n",
       "   Year Built  Year Remod/Add Roof Style Roof Matl Exterior 1st Exterior 2nd  \\\n",
       "0        1960            1960        Hip   CompShg      BrkFace      Plywood   \n",
       "1        1961            1961      Gable   CompShg      VinylSd      VinylSd   \n",
       "2        1958            1958        Hip   CompShg      Wd Sdng      Wd Sdng   \n",
       "3        1968            1968        Hip   CompShg      BrkFace      BrkFace   \n",
       "4        1997            1998      Gable   CompShg      VinylSd      VinylSd   \n",
       "\n",
       "  Mas Vnr Type  Mas Vnr Area Exter Qual Exter Cond Foundation Bsmt Qual  \\\n",
       "0        Stone         112.0         TA         TA     CBlock        TA   \n",
       "1         None           0.0         TA         TA     CBlock        TA   \n",
       "2      BrkFace         108.0         TA         TA     CBlock        TA   \n",
       "3         None           0.0         Gd         TA     CBlock        TA   \n",
       "4         None           0.0         TA         TA      PConc        Gd   \n",
       "\n",
       "  Bsmt Cond Bsmt Exposure BsmtFin Type 1  BsmtFin SF 1 BsmtFin Type 2  \\\n",
       "0        Gd            Gd            BLQ         639.0            Unf   \n",
       "1        TA            No            Rec         468.0            LwQ   \n",
       "2        TA            No            ALQ         923.0            Unf   \n",
       "3        TA            No            ALQ        1065.0            Unf   \n",
       "4        TA            No            GLQ         791.0            Unf   \n",
       "\n",
       "   BsmtFin SF 2  Bsmt Unf SF  Total Bsmt SF Heating Heating QC Central Air  \\\n",
       "0           0.0        441.0         1080.0    GasA         Fa           Y   \n",
       "1         144.0        270.0          882.0    GasA         TA           Y   \n",
       "2           0.0        406.0         1329.0    GasA         TA           Y   \n",
       "3           0.0       1045.0         2110.0    GasA         Ex           Y   \n",
       "4           0.0        137.0          928.0    GasA         Gd           Y   \n",
       "\n",
       "  Electrical  1st Flr SF  2nd Flr SF  Low Qual Fin SF  Gr Liv Area  \\\n",
       "0      SBrkr        1656           0                0         1656   \n",
       "1      SBrkr         896           0                0          896   \n",
       "2      SBrkr        1329           0                0         1329   \n",
       "3      SBrkr        2110           0                0         2110   \n",
       "4      SBrkr         928         701                0         1629   \n",
       "\n",
       "   Bsmt Full Bath  Bsmt Half Bath  Full Bath  Half Bath  Bedroom AbvGr  \\\n",
       "0             1.0             0.0          1          0              3   \n",
       "1             0.0             0.0          1          0              2   \n",
       "2             0.0             0.0          1          1              3   \n",
       "3             1.0             0.0          2          1              3   \n",
       "4             0.0             0.0          2          1              3   \n",
       "\n",
       "   Kitchen AbvGr Kitchen Qual  TotRms AbvGrd Functional  Fireplaces  \\\n",
       "0              1           TA              7        Typ           2   \n",
       "1              1           TA              5        Typ           0   \n",
       "2              1           Gd              6        Typ           0   \n",
       "3              1           Ex              8        Typ           2   \n",
       "4              1           TA              6        Typ           1   \n",
       "\n",
       "  Fireplace Qu Garage Type  Garage Yr Blt Garage Finish  Garage Cars  \\\n",
       "0           Gd      Attchd         1960.0           Fin          2.0   \n",
       "1          NaN      Attchd         1961.0           Unf          1.0   \n",
       "2          NaN      Attchd         1958.0           Unf          1.0   \n",
       "3           TA      Attchd         1968.0           Fin          2.0   \n",
       "4           TA      Attchd         1997.0           Fin          2.0   \n",
       "\n",
       "   Garage Area Garage Qual Garage Cond Paved Drive  Wood Deck SF  \\\n",
       "0        528.0          TA          TA           P           210   \n",
       "1        730.0          TA          TA           Y           140   \n",
       "2        312.0          TA          TA           Y           393   \n",
       "3        522.0          TA          TA           Y             0   \n",
       "4        482.0          TA          TA           Y           212   \n",
       "\n",
       "   Open Porch SF  Enclosed Porch  3Ssn Porch  Screen Porch  Pool Area Pool QC  \\\n",
       "0             62               0           0             0          0     NaN   \n",
       "1              0               0           0           120          0     NaN   \n",
       "2             36               0           0             0          0     NaN   \n",
       "3              0               0           0             0          0     NaN   \n",
       "4             34               0           0             0          0     NaN   \n",
       "\n",
       "   Fence Misc Feature  Misc Val  Mo Sold  Yr Sold Sale Type Sale Condition  \\\n",
       "0    NaN          NaN         0        5     2010       WD          Normal   \n",
       "1  MnPrv          NaN         0        6     2010       WD          Normal   \n",
       "2    NaN         Gar2     12500        6     2010       WD          Normal   \n",
       "3    NaN          NaN         0        4     2010       WD          Normal   \n",
       "4  MnPrv          NaN         0        3     2010       WD          Normal   \n",
       "\n",
       "   SalePrice  \n",
       "0     215000  \n",
       "1     105000  \n",
       "2     172000  \n",
       "3     244000  \n",
       "4     189900  "
      ]
     },
     "execution_count": 3,
     "metadata": {},
     "output_type": "execute_result"
    }
   ],
   "source": [
    "inp_data = pd.read_csv('./data/AmesHousing.tsv', delimiter='\\t')\n",
    "inp_data.head()"
   ]
  },
  {
   "cell_type": "markdown",
   "id": "enhanced-problem",
   "metadata": {},
   "source": [
    "### Data Pre-processing"
   ]
  },
  {
   "cell_type": "markdown",
   "id": "early-mixer",
   "metadata": {},
   "source": [
    "Now, we will start cleaning up the dataset.\\\n",
    "Basically, we will check for the following things:\n",
    "<ol>\n",
    "    <li>If percentage of null records exceed 5% -> Remove the feature</li>\n",
    "    <li>For text columns drop rows where there are missing values</li>\n",
    "    <li>If nulls are less than 5%, we will fill them with most appropriate values</li>\n",
    "    <li>Convert the text columns into categorical features</li>\n",
    "    <li>If the features are not of much use, drop them</li>\n",
    "    <li>Try creating new features if possible</li>\n",
    "</ol>"
   ]
  },
  {
   "cell_type": "markdown",
   "id": "permanent-heater",
   "metadata": {},
   "source": [
    "#### 1. Null Values"
   ]
  },
  {
   "cell_type": "code",
   "execution_count": 4,
   "id": "front-shape",
   "metadata": {},
   "outputs": [],
   "source": [
    "# count the number of null values\n",
    "null_val = inp_data.isnull().sum()"
   ]
  },
  {
   "cell_type": "code",
   "execution_count": 5,
   "id": "environmental-dream",
   "metadata": {},
   "outputs": [
    {
     "data": {
      "text/plain": [
       "Garage Type       157\n",
       "Garage Yr Blt     159\n",
       "Garage Finish     159\n",
       "Garage Qual       159\n",
       "Garage Cond       159\n",
       "Lot Frontage      490\n",
       "Fireplace Qu     1422\n",
       "Fence            2358\n",
       "Alley            2732\n",
       "Misc Feature     2824\n",
       "Pool QC          2917\n",
       "dtype: int64"
      ]
     },
     "execution_count": 5,
     "metadata": {},
     "output_type": "execute_result"
    }
   ],
   "source": [
    "# find out columns where null values are greater than 5%\n",
    "null_gt_5 = null_val[(null_val > len(inp_data)/20)].sort_values()\n",
    "null_gt_5"
   ]
  },
  {
   "cell_type": "markdown",
   "id": "wanted-hobby",
   "metadata": {},
   "source": [
    "So we can see that there are 11 features which have more than 5% null values. We shall drop these features and move forward"
   ]
  },
  {
   "cell_type": "code",
   "execution_count": 6,
   "id": "cellular-registration",
   "metadata": {},
   "outputs": [],
   "source": [
    "semi_clean = inp_data.drop(null_gt_5.index, axis=1)\n"
   ]
  },
  {
   "cell_type": "markdown",
   "id": "infinite-timer",
   "metadata": {},
   "source": [
    "#### 2. Drop null rows only for text columns"
   ]
  },
  {
   "cell_type": "code",
   "execution_count": 7,
   "id": "equipped-receipt",
   "metadata": {},
   "outputs": [
    {
     "data": {
      "text/plain": [
       "Electrical         1\n",
       "Mas Vnr Type      23\n",
       "Bsmt Qual         80\n",
       "Bsmt Cond         80\n",
       "BsmtFin Type 1    80\n",
       "BsmtFin Type 2    81\n",
       "Bsmt Exposure     83\n",
       "dtype: int64"
      ]
     },
     "execution_count": 7,
     "metadata": {},
     "output_type": "execute_result"
    }
   ],
   "source": [
    "# find the text columns which have null values\n",
    "text_null = semi_clean.select_dtypes(include=['object']).isnull().sum()\n",
    "text_null_gt0 = text_null[(text_null > 0)].sort_values()\n",
    "text_null_gt0"
   ]
  },
  {
   "cell_type": "code",
   "execution_count": 8,
   "id": "rolled-tanzania",
   "metadata": {},
   "outputs": [
    {
     "name": "stdout",
     "output_type": "stream",
     "text": [
      "<class 'pandas.core.frame.DataFrame'>\n",
      "RangeIndex: 2930 entries, 0 to 2929\n",
      "Data columns (total 64 columns):\n",
      " #   Column           Non-Null Count  Dtype  \n",
      "---  ------           --------------  -----  \n",
      " 0   Order            2930 non-null   int64  \n",
      " 1   PID              2930 non-null   int64  \n",
      " 2   MS SubClass      2930 non-null   int64  \n",
      " 3   MS Zoning        2930 non-null   object \n",
      " 4   Lot Area         2930 non-null   int64  \n",
      " 5   Street           2930 non-null   object \n",
      " 6   Lot Shape        2930 non-null   object \n",
      " 7   Land Contour     2930 non-null   object \n",
      " 8   Utilities        2930 non-null   object \n",
      " 9   Lot Config       2930 non-null   object \n",
      " 10  Land Slope       2930 non-null   object \n",
      " 11  Neighborhood     2930 non-null   object \n",
      " 12  Condition 1      2930 non-null   object \n",
      " 13  Condition 2      2930 non-null   object \n",
      " 14  Bldg Type        2930 non-null   object \n",
      " 15  House Style      2930 non-null   object \n",
      " 16  Overall Qual     2930 non-null   int64  \n",
      " 17  Overall Cond     2930 non-null   int64  \n",
      " 18  Year Built       2930 non-null   int64  \n",
      " 19  Year Remod/Add   2930 non-null   int64  \n",
      " 20  Roof Style       2930 non-null   object \n",
      " 21  Roof Matl        2930 non-null   object \n",
      " 22  Exterior 1st     2930 non-null   object \n",
      " 23  Exterior 2nd     2930 non-null   object \n",
      " 24  Mas Vnr Area     2907 non-null   float64\n",
      " 25  Exter Qual       2930 non-null   object \n",
      " 26  Exter Cond       2930 non-null   object \n",
      " 27  Foundation       2930 non-null   object \n",
      " 28  BsmtFin SF 1     2929 non-null   float64\n",
      " 29  BsmtFin SF 2     2929 non-null   float64\n",
      " 30  Bsmt Unf SF      2929 non-null   float64\n",
      " 31  Total Bsmt SF    2929 non-null   float64\n",
      " 32  Heating          2930 non-null   object \n",
      " 33  Heating QC       2930 non-null   object \n",
      " 34  Central Air      2930 non-null   object \n",
      " 35  1st Flr SF       2930 non-null   int64  \n",
      " 36  2nd Flr SF       2930 non-null   int64  \n",
      " 37  Low Qual Fin SF  2930 non-null   int64  \n",
      " 38  Gr Liv Area      2930 non-null   int64  \n",
      " 39  Bsmt Full Bath   2928 non-null   float64\n",
      " 40  Bsmt Half Bath   2928 non-null   float64\n",
      " 41  Full Bath        2930 non-null   int64  \n",
      " 42  Half Bath        2930 non-null   int64  \n",
      " 43  Bedroom AbvGr    2930 non-null   int64  \n",
      " 44  Kitchen AbvGr    2930 non-null   int64  \n",
      " 45  Kitchen Qual     2930 non-null   object \n",
      " 46  TotRms AbvGrd    2930 non-null   int64  \n",
      " 47  Functional       2930 non-null   object \n",
      " 48  Fireplaces       2930 non-null   int64  \n",
      " 49  Garage Cars      2929 non-null   float64\n",
      " 50  Garage Area      2929 non-null   float64\n",
      " 51  Paved Drive      2930 non-null   object \n",
      " 52  Wood Deck SF     2930 non-null   int64  \n",
      " 53  Open Porch SF    2930 non-null   int64  \n",
      " 54  Enclosed Porch   2930 non-null   int64  \n",
      " 55  3Ssn Porch       2930 non-null   int64  \n",
      " 56  Screen Porch     2930 non-null   int64  \n",
      " 57  Pool Area        2930 non-null   int64  \n",
      " 58  Misc Val         2930 non-null   int64  \n",
      " 59  Mo Sold          2930 non-null   int64  \n",
      " 60  Yr Sold          2930 non-null   int64  \n",
      " 61  Sale Type        2930 non-null   object \n",
      " 62  Sale Condition   2930 non-null   object \n",
      " 63  SalePrice        2930 non-null   int64  \n",
      "dtypes: float64(9), int64(28), object(27)\n",
      "memory usage: 1.4+ MB\n"
     ]
    }
   ],
   "source": [
    "# drop these columns with null values\n",
    "semi_clean = semi_clean.drop(text_null_gt0.index, axis=1)\n",
    "semi_clean.info()"
   ]
  },
  {
   "cell_type": "markdown",
   "id": "competent-township",
   "metadata": {},
   "source": [
    "Now our dataset is mostly null removed. Doing so, we started  with 83 features and now we have reduced it to 64 features only.\\\n",
    "However, there are a few features with Null values still.\\\n",
    "We will fill this with the most common value"
   ]
  },
  {
   "cell_type": "markdown",
   "id": "amateur-blood",
   "metadata": {},
   "source": [
    "#### 3. Fill missing values with most common value"
   ]
  },
  {
   "cell_type": "code",
   "execution_count": 9,
   "id": "viral-exclusion",
   "metadata": {},
   "outputs": [
    {
     "data": {
      "text/plain": [
       "BsmtFin SF 1       1\n",
       "BsmtFin SF 2       1\n",
       "Bsmt Unf SF        1\n",
       "Total Bsmt SF      1\n",
       "Garage Cars        1\n",
       "Garage Area        1\n",
       "Bsmt Full Bath     2\n",
       "Bsmt Half Bath     2\n",
       "Mas Vnr Area      23\n",
       "dtype: int64"
      ]
     },
     "execution_count": 9,
     "metadata": {},
     "output_type": "execute_result"
    }
   ],
   "source": [
    "null_val_intfloat = semi_clean.select_dtypes(include=['int64','float']).isnull().sum()\n",
    "null_val_intfloat_gt0 = null_val_intfloat[(null_val_intfloat > 0)].sort_values()\n",
    "null_val_intfloat_gt0"
   ]
  },
  {
   "cell_type": "markdown",
   "id": "agricultural-authority",
   "metadata": {},
   "source": [
    "We will fill the data into these 9 features, however, we need to know what values to fill.\\\n",
    "It is very difficult to say which value might work for which features.\\\n",
    "In order to do so, we need to take a deeper dive into the dataset information.\n",
    "\n",
    "From the dataset description we could find the following:\n",
    "<ul>\n",
    "    <li>BsmtFin SF 1: Finished Square Feet </li>\n",
    "    <li>BsmtFin SF 2: Type 2 Finished Square Feet </li>\n",
    "    <li>Bsmt Unf SF: Unfinished Basement Square Feet </li>\n",
    "    <li>Total Bsmt SF: Total SF of basement area </li>\n",
    "    <li>Garage Cars: Size of garage in car capacity </li>\n",
    "    <li>Garage Area: Size of garage in square feet </li>\n",
    "    <li>Bsmt Full Bath: Basement full bathrooms </li>\n",
    "    <li>Bsmt Half Bath: Basement half bathrooms </li>\n",
    "    <li>Mas Vnr Area: Masonry veneer area </li>\n",
    "</ul>\n",
    "\n",
    "It is interesting to note that most of these values are continuous or in some ranges."
   ]
  },
  {
   "cell_type": "markdown",
   "id": "simple-mortgage",
   "metadata": {},
   "source": [
    "When dealing with replacing missing values we have two choices:\n",
    "<ol>\n",
    "    <li>If the feature is in some continuous range of values, we can allow to replace the missing values with the average (mean) of the distribution </li>\n",
    "    <li>If the feature is some categorical feature, we should pick the most dominant category (mode) of the distribution</li>\n",
    "</ol>\n",
    "\n",
    "In this case, we will simply replace all the missing values with the mean, since these are continuous variables."
   ]
  },
  {
   "cell_type": "code",
   "execution_count": 10,
   "id": "numeric-arrangement",
   "metadata": {},
   "outputs": [],
   "source": [
    "# Replace missing values with mean\n",
    "semi_clean = semi_clean.fillna(semi_clean.mean())"
   ]
  },
  {
   "cell_type": "code",
   "execution_count": 11,
   "id": "sound-things",
   "metadata": {},
   "outputs": [
    {
     "name": "stdout",
     "output_type": "stream",
     "text": [
      "Series([], dtype: int64)\n"
     ]
    }
   ],
   "source": [
    "# check if any missing values are still left\n",
    "rem_nulls = semi_clean.isnull().sum()\n",
    "print(rem_nulls[rem_nulls > 0].sort_values())"
   ]
  },
  {
   "cell_type": "code",
   "execution_count": 12,
   "id": "optimum-publisher",
   "metadata": {},
   "outputs": [],
   "source": [
    "clean_data = semi_clean.copy()"
   ]
  },
  {
   "cell_type": "markdown",
   "id": "usual-uncle",
   "metadata": {},
   "source": [
    "So we have cleaned up the missing values. Now we will perform Feature Engineering"
   ]
  },
  {
   "cell_type": "markdown",
   "id": "incomplete-feedback",
   "metadata": {},
   "source": [
    "### Feature Engineering"
   ]
  },
  {
   "cell_type": "markdown",
   "id": "provincial-blake",
   "metadata": {},
   "source": [
    "On taking a deeper-dive into the dataset, we note the following: \n",
    "\n",
    "There are a lot of features which needs to be engineered and some of the features can be combines. For instance,\n",
    "\n",
    "<ul>\n",
    "    <li>Bsmt Full Bath: Basement full bathrooms </li>\n",
    "    <li>Bsmt Half Bath: Basement half bathrooms </li>\n",
    "    <li>Full Bath: Full bathrooms above grade </li>\n",
    "    <li>Half Bath: Half baths above grade </li>\n",
    "</ul>\n",
    "These features can be combined into two single features\n",
    "\n",
    "<ul>\n",
    "    <li>Mo Sold: Month Sold (MM) </li>\n",
    "    <li>Yr Sold: Year Sold (YYYY) </li>\n",
    "    <li>Sale Type: Type of sale </li>\n",
    "    <li>Sale Condition: Condition of sale </li>\n",
    "</ul>\n",
    "These features can be dropped as there is no requirement for what type of sale has been processed\n",
    "\n",
    "<ul>\n",
    "    <li>Year Built: Original construction date </li>\n",
    "    <li>Year Remod/Add: Remodel date (same as construction date if no remodeling or additions) </li>\n",
    "</ul>    \n",
    "These features needs to be engineered to a more relevant feature\n",
    "    "
   ]
  },
  {
   "cell_type": "code",
   "execution_count": 13,
   "id": "defensive-praise",
   "metadata": {},
   "outputs": [
    {
     "data": {
      "text/plain": [
       "0    50\n",
       "1    49\n",
       "2    52\n",
       "3    42\n",
       "4    13\n",
       "dtype: int64"
      ]
     },
     "execution_count": 13,
     "metadata": {},
     "output_type": "execute_result"
    }
   ],
   "source": [
    "# combining features to get age at selling time\n",
    "age_of_house_sold = clean_data['Yr Sold'] - clean_data['Year Built']\n",
    "age_of_house_sold.head()"
   ]
  },
  {
   "cell_type": "code",
   "execution_count": 14,
   "id": "directed-parade",
   "metadata": {},
   "outputs": [
    {
     "data": {
      "text/plain": [
       "2180   -1\n",
       "dtype: int64"
      ]
     },
     "execution_count": 14,
     "metadata": {},
     "output_type": "execute_result"
    }
   ],
   "source": [
    "#  checking for negative data\n",
    "age_of_house_sold[age_of_house_sold < 0]"
   ]
  },
  {
   "cell_type": "code",
   "execution_count": 15,
   "id": "plastic-motion",
   "metadata": {},
   "outputs": [
    {
     "data": {
      "text/plain": [
       "1702   -1\n",
       "2180   -2\n",
       "2181   -1\n",
       "dtype: int64"
      ]
     },
     "execution_count": 15,
     "metadata": {},
     "output_type": "execute_result"
    }
   ],
   "source": [
    "# combining features to get age at selling time\n",
    "age_of_house_remod = clean_data['Yr Sold'] - clean_data['Year Remod/Add']\n",
    "#  checking for negative data\n",
    "age_of_house_remod[age_of_house_remod < 0]"
   ]
  },
  {
   "cell_type": "code",
   "execution_count": 16,
   "id": "indirect-medication",
   "metadata": {},
   "outputs": [
    {
     "data": {
      "text/plain": [
       "Index(['Order', 'PID', 'MS SubClass', 'MS Zoning', 'Lot Area', 'Street',\n",
       "       'Lot Shape', 'Land Contour', 'Utilities', 'Lot Config', 'Land Slope',\n",
       "       'Neighborhood', 'Condition 1', 'Condition 2', 'Bldg Type',\n",
       "       'House Style', 'Overall Qual', 'Overall Cond', 'Roof Style',\n",
       "       'Roof Matl', 'Exterior 1st', 'Exterior 2nd', 'Mas Vnr Area',\n",
       "       'Exter Qual', 'Exter Cond', 'Foundation', 'BsmtFin SF 1',\n",
       "       'BsmtFin SF 2', 'Bsmt Unf SF', 'Total Bsmt SF', 'Heating', 'Heating QC',\n",
       "       'Central Air', '1st Flr SF', '2nd Flr SF', 'Low Qual Fin SF',\n",
       "       'Gr Liv Area', 'Bsmt Full Bath', 'Bsmt Half Bath', 'Full Bath',\n",
       "       'Half Bath', 'Bedroom AbvGr', 'Kitchen AbvGr', 'Kitchen Qual',\n",
       "       'TotRms AbvGrd', 'Functional', 'Fireplaces', 'Garage Cars',\n",
       "       'Garage Area', 'Paved Drive', 'Wood Deck SF', 'Open Porch SF',\n",
       "       'Enclosed Porch', '3Ssn Porch', 'Screen Porch', 'Pool Area', 'Misc Val',\n",
       "       'Mo Sold', 'Yr Sold', 'Sale Type', 'Sale Condition', 'SalePrice'],\n",
       "      dtype='object')"
      ]
     },
     "execution_count": 16,
     "metadata": {},
     "output_type": "execute_result"
    }
   ],
   "source": [
    "# dropping the columns which have been extracted above\n",
    "clean_data.drop('Year Built', axis=1, inplace=True)\n",
    "clean_data.drop('Year Remod/Add', axis=1, inplace=True)\n",
    "clean_data.columns"
   ]
  },
  {
   "cell_type": "code",
   "execution_count": 17,
   "id": "coordinated-insertion",
   "metadata": {},
   "outputs": [
    {
     "data": {
      "text/plain": [
       "Index(['Order', 'PID', 'MS SubClass', 'MS Zoning', 'Lot Area', 'Street',\n",
       "       'Lot Shape', 'Land Contour', 'Utilities', 'Lot Config', 'Land Slope',\n",
       "       'Neighborhood', 'Condition 1', 'Condition 2', 'Bldg Type',\n",
       "       'House Style', 'Overall Qual', 'Overall Cond', 'Roof Style',\n",
       "       'Roof Matl', 'Exterior 1st', 'Exterior 2nd', 'Mas Vnr Area',\n",
       "       'Exter Qual', 'Exter Cond', 'Foundation', 'BsmtFin SF 1',\n",
       "       'BsmtFin SF 2', 'Bsmt Unf SF', 'Total Bsmt SF', 'Heating', 'Heating QC',\n",
       "       'Central Air', '1st Flr SF', '2nd Flr SF', 'Low Qual Fin SF',\n",
       "       'Gr Liv Area', 'Bsmt Full Bath', 'Bsmt Half Bath', 'Full Bath',\n",
       "       'Half Bath', 'Bedroom AbvGr', 'Kitchen AbvGr', 'Kitchen Qual',\n",
       "       'TotRms AbvGrd', 'Functional', 'Fireplaces', 'Garage Cars',\n",
       "       'Garage Area', 'Paved Drive', 'Wood Deck SF', 'Open Porch SF',\n",
       "       'Enclosed Porch', '3Ssn Porch', 'Screen Porch', 'Pool Area', 'Misc Val',\n",
       "       'Mo Sold', 'Yr Sold', 'Sale Type', 'Sale Condition', 'SalePrice',\n",
       "       'age_of_house_sold', 'age_of_house_remod'],\n",
       "      dtype='object')"
      ]
     },
     "execution_count": 17,
     "metadata": {},
     "output_type": "execute_result"
    }
   ],
   "source": [
    "# adding new features\n",
    "clean_data['age_of_house_sold'] = age_of_house_sold\n",
    "clean_data['age_of_house_remod'] = age_of_house_remod\n",
    "clean_data.columns"
   ]
  },
  {
   "cell_type": "code",
   "execution_count": 18,
   "id": "committed-helmet",
   "metadata": {},
   "outputs": [],
   "source": [
    "# dropped rows with negative values\n",
    "clean_data.drop([1702,2180,2181], axis=0, inplace=True)"
   ]
  },
  {
   "cell_type": "code",
   "execution_count": 19,
   "id": "entertaining-equilibrium",
   "metadata": {},
   "outputs": [],
   "source": [
    "# recombining half and full bathroom features\n",
    "clean_data['basement_bathrooom'] = clean_data['Bsmt Full Bath'] + (clean_data['Bsmt Half Bath'])*0.5\n",
    "clean_data['bathrooom'] = clean_data['Full Bath'] + (clean_data['Half Bath'])*0.5"
   ]
  },
  {
   "cell_type": "code",
   "execution_count": 20,
   "id": "formed-correlation",
   "metadata": {},
   "outputs": [],
   "source": [
    "# dropping extracted features\n",
    "clean_data.drop(['Bsmt Full Bath', 'Bsmt Half Bath', 'Full Bath', 'Half Bath'], axis=1, inplace=True)"
   ]
  },
  {
   "cell_type": "code",
   "execution_count": 21,
   "id": "incomplete-flour",
   "metadata": {},
   "outputs": [],
   "source": [
    "# dropping sale related columns\n",
    "clean_data.drop(['Mo Sold','Yr Sold','Sale Type','Sale Condition'], axis=1, inplace=True)"
   ]
  },
  {
   "cell_type": "code",
   "execution_count": 22,
   "id": "active-pencil",
   "metadata": {},
   "outputs": [
    {
     "data": {
      "text/plain": [
       "Index(['Order', 'PID', 'MS SubClass', 'MS Zoning', 'Lot Area', 'Street',\n",
       "       'Lot Shape', 'Land Contour', 'Utilities', 'Lot Config', 'Land Slope',\n",
       "       'Neighborhood', 'Condition 1', 'Condition 2', 'Bldg Type',\n",
       "       'House Style', 'Overall Qual', 'Overall Cond', 'Roof Style',\n",
       "       'Roof Matl', 'Exterior 1st', 'Exterior 2nd', 'Mas Vnr Area',\n",
       "       'Exter Qual', 'Exter Cond', 'Foundation', 'BsmtFin SF 1',\n",
       "       'BsmtFin SF 2', 'Bsmt Unf SF', 'Total Bsmt SF', 'Heating', 'Heating QC',\n",
       "       'Central Air', '1st Flr SF', '2nd Flr SF', 'Low Qual Fin SF',\n",
       "       'Gr Liv Area', 'Bedroom AbvGr', 'Kitchen AbvGr', 'Kitchen Qual',\n",
       "       'TotRms AbvGrd', 'Functional', 'Fireplaces', 'Garage Cars',\n",
       "       'Garage Area', 'Paved Drive', 'Wood Deck SF', 'Open Porch SF',\n",
       "       'Enclosed Porch', '3Ssn Porch', 'Screen Porch', 'Pool Area', 'Misc Val',\n",
       "       'SalePrice', 'age_of_house_sold', 'age_of_house_remod',\n",
       "       'basement_bathrooom', 'bathrooom'],\n",
       "      dtype='object')"
      ]
     },
     "execution_count": 22,
     "metadata": {},
     "output_type": "execute_result"
    }
   ],
   "source": [
    "clean_data.columns"
   ]
  },
  {
   "cell_type": "code",
   "execution_count": 23,
   "id": "acceptable-finish",
   "metadata": {},
   "outputs": [],
   "source": [
    "# dropping some other features which are not that important\n",
    "clean_data.drop(['PID', 'Order'], axis=1, inplace=True)"
   ]
  },
  {
   "cell_type": "markdown",
   "id": "respiratory-energy",
   "metadata": {},
   "source": [
    "### Linear Regression Model and RMS Error"
   ]
  },
  {
   "cell_type": "code",
   "execution_count": 26,
   "id": "static-hierarchy",
   "metadata": {},
   "outputs": [],
   "source": [
    "# def a function for training/testing\n",
    "def train_and_test(df):\n",
    "    # splitting dataframe into train/test segments\n",
    "    train = df[0:1460]\n",
    "    test = df[1460:]\n",
    "    \n",
    "    # selecting only numeric values from train/test sets\n",
    "    numeric_train = train.select_dtypes(include=['integer','float'])\n",
    "    numeric_test = test.select_dtypes(include=['integer','float'])\n",
    "    \n",
    "    features = numeric_train.columns.drop('SalePrice')\n",
    "    linreg = linear_model.LinearRegression()\n",
    "    linreg.fit(train[features], train['SalePrice'])\n",
    "    predictions = linreg.predict(test[features])\n",
    "    mse = mean_squared_error(test['SalePrice'], predictions)\n",
    "    rmse = np.sqrt(mse)\n",
    "    \n",
    "    return rmse"
   ]
  },
  {
   "cell_type": "code",
   "execution_count": 27,
   "id": "armed-chosen",
   "metadata": {},
   "outputs": [
    {
     "data": {
      "text/plain": [
       "70888.75727097962"
      ]
     },
     "execution_count": 27,
     "metadata": {},
     "output_type": "execute_result"
    }
   ],
   "source": [
    "train_and_test(clean_data)"
   ]
  },
  {
   "cell_type": "markdown",
   "id": "working-diesel",
   "metadata": {},
   "source": [
    "### Feature Selection"
   ]
  },
  {
   "cell_type": "markdown",
   "id": "czech-bleeding",
   "metadata": {},
   "source": [
    "Now, as our dataset contains a large number of features, we will try to find suitable features to make our data more efficient and terse. \\\n",
    "First, we will try to find the numerical (integer and float) features and derive the correlation among them."
   ]
  },
  {
   "cell_type": "code",
   "execution_count": 28,
   "id": "rapid-african",
   "metadata": {},
   "outputs": [
    {
     "data": {
      "text/plain": [
       "SalePrice             1.000000\n",
       "Overall Qual          0.801206\n",
       "Gr Liv Area           0.717596\n",
       "Garage Cars           0.648411\n",
       "Total Bsmt SF         0.643601\n",
       "Garage Area           0.641675\n",
       "1st Flr SF            0.635185\n",
       "bathrooom             0.581357\n",
       "age_of_house_sold     0.558979\n",
       "age_of_house_remod    0.534985\n",
       "Mas Vnr Area          0.510611\n",
       "TotRms AbvGrd         0.498574\n",
       "Fireplaces            0.474831\n",
       "BsmtFin SF 1          0.438928\n",
       "Wood Deck SF          0.328183\n",
       "Open Porch SF         0.316262\n",
       "basement_bathrooom    0.270144\n",
       "2nd Flr SF            0.269601\n",
       "Lot Area              0.267520\n",
       "Bsmt Unf SF           0.182248\n",
       "Bedroom AbvGr         0.143916\n",
       "Enclosed Porch        0.128685\n",
       "Kitchen AbvGr         0.119760\n",
       "Screen Porch          0.112280\n",
       "Overall Cond          0.101540\n",
       "MS SubClass           0.085128\n",
       "Pool Area             0.068438\n",
       "Low Qual Fin SF       0.037629\n",
       "3Ssn Porch            0.032268\n",
       "Misc Val              0.019273\n",
       "BsmtFin SF 2          0.006000\n",
       "Name: SalePrice, dtype: float64"
      ]
     },
     "execution_count": 28,
     "metadata": {},
     "output_type": "execute_result"
    }
   ],
   "source": [
    "# numerical features\n",
    "numr_feat = clean_data.select_dtypes(include=['int64', 'float'])\n",
    "\n",
    "# correlation among these features\n",
    "num_data_corr = numr_feat.corr()['SalePrice'].abs().sort_values(ascending=False)\n",
    "num_data_corr"
   ]
  },
  {
   "cell_type": "code",
   "execution_count": null,
   "id": "integral-natural",
   "metadata": {},
   "outputs": [],
   "source": [
    "# we will keep only those columns which have correlation higher than 0.3\n",
    "clean_data.drop(num_data_corr[num_data_corr < 0.4].index, axis=1, inplace=True)"
   ]
  },
  {
   "cell_type": "markdown",
   "id": "adopted-mozambique",
   "metadata": {},
   "source": [
    "#### Categorical Features\n",
    "\n",
    "In order to deal with the categorical feature selection we will perform the following operations\n",
    "<ol>\n",
    "    <li>Create a list of categorical column names </li>\n",
    "    <li>Convert numerical features that should be categorical </li>\n",
    "    <li>Drop categorical columns with more than 10 unique values </li>\n",
    "    <li>Drop categorical columns with unique values under 2 and an very skewed distribution </li>\n",
    "    <li>Create dummies for remaining categorical columns </li>\n",
    "</ol>"
   ]
  },
  {
   "cell_type": "markdown",
   "id": "generic-independence",
   "metadata": {},
   "source": [
    "Following are the categorical variables:\n",
    "<ul>\n",
    "<li>Street</li> <li>Lot Shape</li> <li>Land Contour</li> <li>Utilities</li> <li>Lot Config</li> <li>Land Slope</li> <li>Neighborhood</li> <li>Condition 1</li> <li>Condition 2</li> <li>Bldg Type</li> <li>House Style</li> <li>Roof Style</li> <li>Roof Matl</li> <li>Exterior 1st</li> <li>Exterior 2nd</li> <li>Foundation</li> <li>Heating</li> <li>Central Air</li> <li>Functional</li> <li>Paved Drive</li> \n",
    "</ul>\n",
    "\n",
    "Followinng are the numerical variables which needs to be converted into categorical variables:\n",
    "<ul> <li>MS SubClass</li> <li>Exter Qual</li> <li>Exter Cond</li> <li>Heating QC</li> <li>Kitchen Qual</li> </ul>"
   ]
  },
  {
   "cell_type": "code",
   "execution_count": 30,
   "id": "roman-reset",
   "metadata": {},
   "outputs": [],
   "source": [
    "# Creating list of categorical features\n",
    "cat_features = ['Street', 'Lot Shape', 'Land Contour', 'Utilities',\n",
    "                'Lot Config', 'Land Slope', 'Neighborhood',\n",
    "                'Condition 1', 'Condition 2', 'Bldg Type',\n",
    "                'House Style', 'Roof Style','Roof Matl',\n",
    "                'Exterior 1st','Exterior 2nd','Foundation',\n",
    "                'Heating', 'Central Air', 'Functional', 'Paved Drive',\n",
    "                'MS SubClass', 'Exter Qual', 'Exter Cond', 'Heating QC',\n",
    "                'Kitchen Qual'\n",
    "               ]"
   ]
  },
  {
   "cell_type": "code",
   "execution_count": 31,
   "id": "apart-attendance",
   "metadata": {},
   "outputs": [],
   "source": [
    "# Creating list of cat features left in dataset\n",
    "transform_cat_features = []\n",
    "for col in cat_features:\n",
    "    if col in clean_data.columns:\n",
    "        transform_cat_features.append(col)"
   ]
  },
  {
   "cell_type": "code",
   "execution_count": 32,
   "id": "spread-navigation",
   "metadata": {},
   "outputs": [
    {
     "data": {
      "text/plain": [
       "Street           2\n",
       "Central Air      2\n",
       "Utilities        3\n",
       "Land Slope       3\n",
       "Paved Drive      3\n",
       "Lot Shape        4\n",
       "Land Contour     4\n",
       "Exter Qual       4\n",
       "Exter Cond       5\n",
       "Heating QC       5\n",
       "Kitchen Qual     5\n",
       "Bldg Type        5\n",
       "Lot Config       5\n",
       "Roof Style       6\n",
       "Foundation       6\n",
       "Heating          6\n",
       "Condition 2      8\n",
       "Functional       8\n",
       "House Style      8\n",
       "Roof Matl        8\n",
       "Condition 1      9\n",
       "Exterior 1st    16\n",
       "MS SubClass     16\n",
       "Exterior 2nd    17\n",
       "Neighborhood    28\n",
       "dtype: int64"
      ]
     },
     "execution_count": 32,
     "metadata": {},
     "output_type": "execute_result"
    }
   ],
   "source": [
    "# Number of unique values in each cat column\n",
    "unique_cat_vals = clean_data[transform_cat_features].apply(lambda col: len(col.value_counts())).sort_values()\n",
    "unique_cat_vals"
   ]
  },
  {
   "cell_type": "code",
   "execution_count": 33,
   "id": "criminal-algeria",
   "metadata": {},
   "outputs": [],
   "source": [
    "# Removing columns with more than 10 unique values\n",
    "nonuniq_cols = unique_cat_vals[unique_cat_vals > 10].index\n",
    "clean_data.drop(nonuniq_cols, axis=1, inplace=True)"
   ]
  },
  {
   "cell_type": "code",
   "execution_count": 34,
   "id": "curious-saturday",
   "metadata": {},
   "outputs": [
    {
     "data": {
      "text/plain": [
       "Index(['Street', 'Central Air', 'Utilities', 'Land Slope', 'Paved Drive',\n",
       "       'Lot Shape', 'Land Contour', 'Exter Qual'],\n",
       "      dtype='object')"
      ]
     },
     "execution_count": 34,
     "metadata": {},
     "output_type": "execute_result"
    }
   ],
   "source": [
    "# Listing remaining cat columns for skewed data\n",
    "remaining_cat_cols = []\n",
    "for col in cat_features:\n",
    "    if col in clean_data.columns:\n",
    "        remaining_cat_cols.append(col)\n",
    "        \n",
    "# Exploring remaining cat columns with less than 5 unique values\n",
    "cat_val_counts = clean_data[remaining_cat_cols].apply(lambda col: len(col.value_counts())).sort_values()\n",
    "skewed_cols = cat_val_counts[cat_val_counts < 5].index\n",
    "skewed_cols"
   ]
  },
  {
   "cell_type": "code",
   "execution_count": 36,
   "id": "induced-vancouver",
   "metadata": {},
   "outputs": [
    {
     "name": "stdout",
     "output_type": "stream",
     "text": [
      "Pave    2915\n",
      "Grvl      12\n",
      "Name: Street, dtype: int64\n",
      "\n",
      "\n",
      "Y    2731\n",
      "N     196\n",
      "Name: Central Air, dtype: int64\n",
      "\n",
      "\n",
      "AllPub    2924\n",
      "NoSewr       2\n",
      "NoSeWa       1\n",
      "Name: Utilities, dtype: int64\n",
      "\n",
      "\n",
      "Gtl    2786\n",
      "Mod     125\n",
      "Sev      16\n",
      "Name: Land Slope, dtype: int64\n",
      "\n",
      "\n",
      "Y    2649\n",
      "N     216\n",
      "P      62\n",
      "Name: Paved Drive, dtype: int64\n",
      "\n",
      "\n",
      "Reg    1859\n",
      "IR1     976\n",
      "IR2      76\n",
      "IR3      16\n",
      "Name: Lot Shape, dtype: int64\n",
      "\n",
      "\n",
      "Lvl    2632\n",
      "HLS     120\n",
      "Bnk     115\n",
      "Low      60\n",
      "Name: Land Contour, dtype: int64\n",
      "\n",
      "\n",
      "TA    1799\n",
      "Gd     988\n",
      "Ex     105\n",
      "Fa      35\n",
      "Name: Exter Qual, dtype: int64\n",
      "\n",
      "\n"
     ]
    }
   ],
   "source": [
    "for col in skewed_cols:\n",
    "    print(clean_data[col].value_counts())\n",
    "    print('\\n')"
   ]
  },
  {
   "cell_type": "markdown",
   "id": "accessory-underground",
   "metadata": {},
   "source": [
    "We can note that the features 'Street' and 'Utilities' have highly skewed data. So, we will drop these features and proceed"
   ]
  },
  {
   "cell_type": "code",
   "execution_count": 40,
   "id": "internal-trance",
   "metadata": {},
   "outputs": [],
   "source": [
    "# dropping skewed columns\n",
    "clean_data.drop(['Street', 'Utilities'], axis=1, inplace=True)"
   ]
  },
  {
   "cell_type": "code",
   "execution_count": 42,
   "id": "healthy-composite",
   "metadata": {},
   "outputs": [],
   "source": [
    "# converting all cat columns that remain to categorical\n",
    "# Creating list of cat features left in dataset\n",
    "transform_cat_features = clean_data.select_dtypes(include=['object'])\n",
    "\n",
    "for col in transform_cat_features:\n",
    "    clean_data[col] = clean_data[col].astype('category')"
   ]
  },
  {
   "cell_type": "code",
   "execution_count": 43,
   "id": "terminal-gender",
   "metadata": {},
   "outputs": [],
   "source": [
    "# creating drop list of category features\n",
    "cat_cols = clean_data.select_dtypes(include=['category'])\n",
    "\n",
    "# creating df of dummy categories\n",
    "dummies = pd.get_dummies(clean_data.select_dtypes(include=['category']))\n",
    "\n",
    "# Create dummies and add back to dataframe\n",
    "data_final = pd.concat([clean_data, dummies], axis=1)\n",
    "\n",
    "# Drop original dummy categories\n",
    "data_final.drop(cat_cols, axis=1, inplace=True)"
   ]
  },
  {
   "cell_type": "code",
   "execution_count": 44,
   "id": "japanese-eligibility",
   "metadata": {},
   "outputs": [
    {
     "data": {
      "text/plain": [
       "57112.987063581335"
      ]
     },
     "execution_count": 44,
     "metadata": {},
     "output_type": "execute_result"
    }
   ],
   "source": [
    "train_and_test(data_final)"
   ]
  },
  {
   "cell_type": "markdown",
   "id": "nasty-mills",
   "metadata": {},
   "source": [
    "## Preparing for KFold and Cross Validation Testing\n",
    "\n",
    "We will first form all the above steps performed into functions and then perform the KFold Testing"
   ]
  },
  {
   "cell_type": "code",
   "execution_count": 46,
   "id": "internal-struggle",
   "metadata": {},
   "outputs": [],
   "source": [
    "# def a function for cleaning the data\n",
    "def transform_features(df):\n",
    "    # creating a df of null counts in each category\n",
    "    null_counts = df.isnull().sum()\n",
    "    # identifying columns with more than 5% null values\n",
    "    drop_na_cols = null_counts[(null_counts > len(df)/20)].sort_values()\n",
    "    # drop those columns from dataframe\n",
    "    df.drop(drop_na_cols.index, axis=1, inplace=True)\n",
    "    \n",
    "    # identifying only text columns\n",
    "    missing_text_vals = df.select_dtypes(include=['object']).isnull().sum()\n",
    "    replace_text_cols = missing_text_vals[(missing_text_vals > 0)].sort_values()\n",
    "    # dropping columns with missing values in text columns\n",
    "    df.drop(replace_text_cols.index, axis=1, inplace=True)\n",
    "    \n",
    "    # identifying only numerical columns\n",
    "    missing_vals = df.select_dtypes(include=['int64','float']).isnull().sum()\n",
    "    replace_cols = missing_vals[(missing_vals > 0)].sort_values()\n",
    "    ## Fill missing values with mean\n",
    "    df.fillna(df.mean(), inplace=True)\n",
    "    \n",
    "    # Engineering Age of house feature\n",
    "    years_sold = df['Yr Sold'] - df['Year Built']\n",
    "    # Dropping Year Built column\n",
    "    df.drop('Year Built', axis=1, inplace=True)\n",
    "    # Engineering Years Before Remodel column\n",
    "    df['years_since_remodel'] = df['Yr Sold'] - df['Year Remod/Add']\n",
    "    # Dropping Year Remod column\n",
    "    df.drop('Year Remod/Add', axis=1, inplace=True)\n",
    "    # verifying that new feature contains positive values\n",
    "    years_since_remod = df['years_since_remodel']\n",
    "    # Creating new columns\n",
    "    df['Years Before Sale'] = years_sold\n",
    "    df['Years Since Remod'] = years_since_remod\n",
    "    # Drop rows with negative values\n",
    "    df.drop([2180, 1702, 2181], axis=0, inplace=True)\n",
    "    # Combining bathroom features\n",
    "    df['Bath'] = df['Full Bath'] + (df['Half Bath']*0.5)\n",
    "    df['Bsmt Bath'] = df['Bsmt Full Bath'] + (df['Bsmt Half Bath']*0.5)\n",
    "    # Dropping old bathroom features\n",
    "    df.drop(['Full Bath','Half Bath','Bsmt Full Bath','Bsmt Half Bath'], axis=1, inplace=True)\n",
    "    # Dropping columns which are proxy for sale\n",
    "    df.drop(['Mo Sold','Yr Sold','Sale Type','Sale Condition'], axis=1, inplace=True)\n",
    "    # Dropping columns which aren't useful for our model\n",
    "    df.drop(['PID','Order'], axis=1, inplace=True)\n",
    "    \n",
    "    return df"
   ]
  },
  {
   "cell_type": "code",
   "execution_count": 50,
   "id": "iraqi-closing",
   "metadata": {},
   "outputs": [],
   "source": [
    "# def a function for feature selection\n",
    "def select_features(df):\n",
    "    ## Keeping correlated numerical features\n",
    "    # Selecting only numerical columns\n",
    "    df_num = df.select_dtypes(include=['int64','float'])\n",
    "    # Checking for correlation\n",
    "    df_corr_coef = df_num.corr()['SalePrice'].abs().sort_values(ascending=False)\n",
    "    df_corr_coef\n",
    "    # Keeping only columns with correlation coefficient larger than 0.4\n",
    "    df.drop(df_corr_coef[df_corr_coef < 0.4].index, axis=1, inplace=True)\n",
    "    \n",
    "    # Creating list of categorical features\n",
    "    cat_features = ['Street', 'Lot Shape', 'Land Contour', 'Utilities',\n",
    "                    'Lot Config', 'Land Slope', 'Neighborhood',\n",
    "                    'Condition 1', 'Condition 2', 'Bldg Type',\n",
    "                    'House Style', 'Roof Style','Roof Matl',\n",
    "                    'Exterior 1st','Exterior 2nd','Foundation',\n",
    "                    'Heating', 'Central Air', 'Functional', 'Paved Drive',\n",
    "                    'MS SubClass', 'Exter Qual', 'Exter Cond', 'Heating QC',\n",
    "                    'Kitchen Qual'\n",
    "                   ]\n",
    "    # Creating list of cat features left in dfset\n",
    "    transform_cat_features = []\n",
    "    for col in cat_features:\n",
    "        if col in df.columns:\n",
    "            transform_cat_features.append(col)\n",
    "    \n",
    "    ## Dropping cat features with too many unique values\n",
    "    # Number of unique values in each cat column\n",
    "    unique_cat_vals = df[transform_cat_features].apply(lambda col: len(col.value_counts())).sort_values()\n",
    "    # Removing columns with more than 10 unique values\n",
    "    nonuniq_cols = unique_cat_vals[unique_cat_vals > 10].index\n",
    "    df.drop(nonuniq_cols, axis=1, inplace=True)\n",
    "    \n",
    "    ## Dropping cat features with skewed values\n",
    "    # dropping skewed columns\n",
    "    df.drop(['Street', 'Utilities'], axis=1, inplace=True)\n",
    "    \n",
    "    # converting all cat columns that remain to categorical\n",
    "    # Creating list of cat features left in dfset\n",
    "    transform_cat_features = df.select_dtypes(include=['object'])\n",
    "    # Converting these features to category type\n",
    "    for col in transform_cat_features:\n",
    "        df[col] = df[col].astype('category')\n",
    "    \n",
    "    ## Get dummies for categorical features and drop them\n",
    "    # creating drop list of category features\n",
    "    cat_cols = df.select_dtypes(include=['category'])\n",
    "    # creating df of dummy categories\n",
    "    dummies = pd.get_dummies(df.select_dtypes(include=['category']))\n",
    "    # Create dummies and add back to dfframe\n",
    "    df_final = pd.concat([df, dummies], axis=1)\n",
    "    # Drop original dummy categories\n",
    "    df_final.drop(cat_cols, axis=1, inplace=True)\n",
    "\n",
    "    return df_final"
   ]
  },
  {
   "cell_type": "code",
   "execution_count": 51,
   "id": "judicial-wesley",
   "metadata": {},
   "outputs": [],
   "source": [
    "# def a function for training/testing\n",
    "def train_and_test(df, k=0):\n",
    "    # splitting dataframe from target column\n",
    "    numeric_df = df.select_dtypes(include=['int64', 'float'])\n",
    "    features = numeric_df.columns.drop('SalePrice')\n",
    "    lr=linear_model.LinearRegression()\n",
    "    \n",
    "    # holdout validation\n",
    "    if k == 0:\n",
    "        # splitting dataframe into train/test segments\n",
    "        train = df[0:1460]\n",
    "        test = df[1460:]\n",
    "    \n",
    "        lr.fit(train[features], train['SalePrice'])\n",
    "        predictions = lr.predict(test[features])\n",
    "        mse = mean_squared_error(test['SalePrice'], predictions)\n",
    "        rmse = np.sqrt(mse) \n",
    "        return rmse\n",
    "    \n",
    "    # simple cross validation\n",
    "    if k == 1:\n",
    "        # Randomizing all rows from df\n",
    "        shuffled_df = df.sample(frac=1, )\n",
    "        # splitting dataframe into train/test segments\n",
    "        train = df[0:1460]\n",
    "        test = df[1460:]\n",
    "        \n",
    "        # training data\n",
    "        lr.fit(train[features], train['SalePrice'])\n",
    "        predictions_one = lr.predict(test[features])\n",
    "        mse_one = mean_squared_error(test['SalePrice'], predictions_one)\n",
    "        rmse_one = np.sqrt(mse_one)\n",
    "        \n",
    "        # test data\n",
    "        lr.fit(test[features], test['SalePrice'])\n",
    "        predictions_two = lr.predict(train[features])\n",
    "        mse_two = mean_squared_error(train['SalePrice'], predictions_two)\n",
    "        rmse_two = np.sqrt(mse_two)\n",
    "        \n",
    "        # averaging rmse\n",
    "        avg_rmse = np.mean([rmse_one, rmse_two])\n",
    "        print(rmse_one, rmse_two)\n",
    "        return avg_rmse\n",
    "    \n",
    "    # K-fold validation\n",
    "    else:\n",
    "        # building K-folds\n",
    "        kf = KFold(n_splits=k, shuffle=True)\n",
    "        rmse_values = []\n",
    "        for train_index, test_index, in kf.split(df):\n",
    "            # creating train/test set for fold\n",
    "            train = df.iloc[train_index]\n",
    "            test = df.iloc[test_index]\n",
    "            # fitting and predicting\n",
    "            lr.fit(train[features], train['SalePrice'])\n",
    "            predictions = lr.predict(test[features])\n",
    "            mse = mean_squared_error(test['SalePrice'], predictions)\n",
    "            rmse = np.sqrt(mse)\n",
    "            rmse_values.append(rmse)\n",
    "        # Averaging rmse values\n",
    "        avg_rmse = np.mean(rmse_values)\n",
    "        print(avg_rmse)\n",
    "        return avg_rmse"
   ]
  },
  {
   "cell_type": "markdown",
   "id": "emotional-calculator",
   "metadata": {},
   "source": [
    "### Holdout Testing"
   ]
  },
  {
   "cell_type": "code",
   "execution_count": 52,
   "id": "humanitarian-classroom",
   "metadata": {},
   "outputs": [
    {
     "data": {
      "text/plain": [
       "36632.403066029794"
      ]
     },
     "execution_count": 52,
     "metadata": {},
     "output_type": "execute_result"
    }
   ],
   "source": [
    "# Holdout testing\n",
    "# Reading in original data into new df\n",
    "data = pd.read_csv('./data/AmesHousing.tsv', delimiter='\\t')\n",
    "# Transforming features\n",
    "data_transformed = transform_features(data)\n",
    "# Selecting features\n",
    "data_final = select_features(data_transformed)\n",
    "# Running regression model\n",
    "train_and_test(data_final, k=0)"
   ]
  },
  {
   "cell_type": "markdown",
   "id": "severe-gravity",
   "metadata": {},
   "source": [
    "### Cross Validation Testing"
   ]
  },
  {
   "cell_type": "code",
   "execution_count": 53,
   "id": "elegant-platform",
   "metadata": {},
   "outputs": [
    {
     "name": "stdout",
     "output_type": "stream",
     "text": [
      "36632.403066029794 30931.92440139434\n"
     ]
    },
    {
     "data": {
      "text/plain": [
       "33782.16373371206"
      ]
     },
     "execution_count": 53,
     "metadata": {},
     "output_type": "execute_result"
    }
   ],
   "source": [
    "# Simple cross validation\n",
    "# Reading in original data into new df\n",
    "data = pd.read_csv('./data/AmesHousing.tsv', delimiter='\\t')\n",
    "# Transforming features\n",
    "data_transformed = transform_features(data)\n",
    "# Selecting features\n",
    "data_final = select_features(data_transformed)\n",
    "# Running regression model\n",
    "train_and_test(data_final, k=1)"
   ]
  },
  {
   "cell_type": "markdown",
   "id": "divided-belarus",
   "metadata": {},
   "source": [
    "### KFold Testing"
   ]
  },
  {
   "cell_type": "code",
   "execution_count": 54,
   "id": "solar-spelling",
   "metadata": {},
   "outputs": [
    {
     "name": "stdout",
     "output_type": "stream",
     "text": [
      "33697.362021760404\n",
      "33345.2299069662\n",
      "33337.06396490855\n",
      "33113.757970178325\n",
      "33225.54686737526\n",
      "32742.921383141173\n",
      "32959.079907685154\n",
      "33043.02562298861\n",
      "32722.512710083432\n",
      "32504.943750736817\n",
      "32584.903190296114\n",
      "32578.797050686266\n",
      "32452.875488733636\n",
      "32514.30787942693\n",
      "31977.99633557202\n",
      "32239.372985372553\n",
      "32632.51142482915\n",
      "32321.319272418365\n",
      "32392.940207985277\n",
      "32324.18209895441\n",
      "32367.090897557824\n",
      "32104.53714426326\n",
      "32279.040234430413\n",
      "32150.322210290808\n",
      "31997.07696702292\n",
      "32055.372052772636\n",
      "31997.63342873714\n",
      "31895.206924515132\n",
      "31992.38329273368\n",
      "31991.008658255687\n",
      "32007.894826358446\n",
      "32019.894604363457\n",
      "31697.596839183858\n",
      "31709.67267135146\n",
      "31736.16823809831\n",
      "31663.859514849242\n",
      "31795.26957783205\n",
      "31595.945036007866\n",
      "31794.635984122335\n",
      "31566.821424293877\n",
      "31661.790235076267\n",
      "31699.904622042774\n",
      "31605.07180699106\n",
      "31671.28848450354\n",
      "31754.449361066065\n",
      "31574.35252624288\n",
      "31627.02231409516\n",
      "31421.827923440826\n",
      "31438.37744913229\n",
      "31675.718685326494\n",
      "31412.804819949313\n",
      "31452.78821718223\n",
      "31344.90050141134\n",
      "31109.04656394579\n",
      "31425.044356743918\n",
      "31337.506615578066\n",
      "31326.484447567214\n",
      "31215.061347333623\n",
      "31144.45476849615\n",
      "31250.68706323607\n",
      "31270.762494443887\n",
      "30926.721982671865\n",
      "31359.345878136897\n",
      "31129.214772813528\n",
      "31000.83176752792\n",
      "31054.092944288706\n",
      "30995.633770910572\n",
      "31239.867407866106\n",
      "31031.46619020824\n",
      "31113.187293421397\n",
      "31143.491026141797\n",
      "31289.942402875873\n",
      "30936.488281802973\n",
      "31131.091729510037\n",
      "31068.476709366318\n",
      "31131.429323045646\n",
      "30880.91813463387\n",
      "31167.854583391603\n",
      "30797.76373825428\n",
      "30976.079611881218\n",
      "30836.685227929756\n",
      "30958.66062035471\n",
      "30975.335223411694\n",
      "30816.35615953358\n",
      "30725.27037227564\n",
      "30887.07376474642\n",
      "30890.500817872646\n",
      "30943.766542192552\n",
      "30761.528003210864\n",
      "30893.07596766632\n",
      "30811.950969730606\n",
      "30864.639399620002\n",
      "30741.44843455074\n",
      "30874.7312830329\n",
      "30918.235117898\n",
      "30742.92317716776\n",
      "30495.773468817508\n",
      "30752.573833371996\n"
     ]
    }
   ],
   "source": [
    "# Reading in original data into new df\n",
    "data = pd.read_csv('./data/AmesHousing.tsv', delimiter='\\t')\n",
    "# Transforming features\n",
    "data_transformed = transform_features(data)\n",
    "# Selecting features\n",
    "data_final = select_features(data_transformed)\n",
    "\n",
    "# testing to optimize k-fold value\n",
    "k_range = list(range(2,100,1))\n",
    "rmses = {}\n",
    "for i in k_range:\n",
    "    rmse = train_and_test(data_final, k=i)\n",
    "    rmses[i] = rmse"
   ]
  },
  {
   "cell_type": "code",
   "execution_count": 55,
   "id": "formal-special",
   "metadata": {},
   "outputs": [
    {
     "name": "stdout",
     "output_type": "stream",
     "text": [
      "Model with minimum rmse is: k = [98], rmse = 30495.773468817508\n"
     ]
    }
   ],
   "source": [
    "# Using min() + list comprehension + values() \n",
    "# Finding min value keys in dictionary \n",
    "temp = min(rmses.values()) \n",
    "res = [key for key in rmses if rmses[key] == temp] \n",
    "  \n",
    "# printing result  \n",
    "print(\"Model with minimum rmse is: \" + \"k = \" + str(res) + \", rmse = \" + str(temp))"
   ]
  },
  {
   "cell_type": "code",
   "execution_count": null,
   "id": "minus-discipline",
   "metadata": {},
   "outputs": [],
   "source": []
  }
 ],
 "metadata": {
  "kernelspec": {
   "display_name": "Python 3",
   "language": "python",
   "name": "python3"
  },
  "language_info": {
   "codemirror_mode": {
    "name": "ipython",
    "version": 3
   },
   "file_extension": ".py",
   "mimetype": "text/x-python",
   "name": "python",
   "nbconvert_exporter": "python",
   "pygments_lexer": "ipython3",
   "version": "3.6.12"
  }
 },
 "nbformat": 4,
 "nbformat_minor": 5
}
